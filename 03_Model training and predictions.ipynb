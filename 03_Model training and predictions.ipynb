{
 "cells": [
  {
   "cell_type": "code",
   "execution_count": 1,
   "id": "3901c5ea",
   "metadata": {},
   "outputs": [],
   "source": [
    "import pandas as pd\n",
    "import numpy as np\n",
    "import sklearn\n",
    "import sys\n",
    "import warnings\n",
    "warnings.filterwarnings('ignore')\n",
    "\n",
    "from sklearn.linear_model import LinearRegression\n",
    "from sklearn.linear_model import Ridge\n",
    "from sklearn.preprocessing import PolynomialFeatures\n",
    "from sklearn.ensemble import RandomForestRegressor\n",
    "from sklearn.ensemble import GradientBoostingRegressor\n",
    "from sklearn.pipeline import Pipeline\n",
    "from joblib import dump, load"
   ]
  },
  {
   "cell_type": "code",
   "execution_count": 2,
   "id": "fb235eb3",
   "metadata": {},
   "outputs": [],
   "source": [
    "sys.path.append('src/')\n",
    "\n",
    "import plot as p\n",
    "import utils as u\n",
    "import evaluate as evl"
   ]
  },
  {
   "cell_type": "code",
   "execution_count": 3,
   "id": "f1f64932",
   "metadata": {},
   "outputs": [],
   "source": [
    "# Load data \n",
    "df = pd.read_csv('training_data/kc_house_data.csv') "
   ]
  },
  {
   "cell_type": "code",
   "execution_count": 4,
   "id": "a8e99db8",
   "metadata": {},
   "outputs": [],
   "source": [
    "# dropping duplicate rows keeping latest ones\n",
    "df.sort_values(['id', 'price']).drop_duplicates(subset = 'id', keep = 'last', inplace = True)"
   ]
  },
  {
   "cell_type": "markdown",
   "id": "aa51ef8d",
   "metadata": {},
   "source": [
    "## Train Model"
   ]
  },
  {
   "cell_type": "code",
   "execution_count": 55,
   "id": "5eeadbe6",
   "metadata": {},
   "outputs": [
    {
     "data": {
      "text/plain": [
       "{'mse': 190253.2678231053, 'mae': 99872.85851648125, 'r2': 0.7902890945900597}"
      ]
     },
     "execution_count": 55,
     "metadata": {},
     "output_type": "execute_result"
    }
   ],
   "source": [
    "# get feature and target dataframes\n",
    "feat_df = df[df.loc[ :,df.columns != 'price'].columns]\n",
    "target_df = df['price']\n",
    "\n",
    "# get train_test_split dfs\n",
    "feat_train, feat_test, target_train, target_test = u.get_train_test_split(\n",
    "                                                            feat_df,\n",
    "                                                            target_df,\n",
    "                                                            random_state = 1\n",
    "                                                  )\n",
    "\n",
    "\n",
    "# fit best model pipeline on training data and predict on test\n",
    "gb_grid = GradientBoostingRegressor(max_depth=4, max_features=3, min_samples_split=140, n_estimators=60,\n",
    "                                    min_samples_leaf= 50, random_state=1)\n",
    "model_pipeline = u.create_model_pipeline(gb_grid)\n",
    "\n",
    "model = model_pipeline.fit(feat_train, target_train)\n",
    "pred = model_pipeline.predict(feat_test)\n",
    "\n",
    "# get evaluation metrics on test data\n",
    "final_metrics = evl.get_scoring_metrics(\n",
    "                        model,\n",
    "                        feat_test,\n",
    "                        target_test,\n",
    "                        pred\n",
    ")\n",
    "\n",
    "final_metrics"
   ]
  },
  {
   "cell_type": "code",
   "execution_count": 56,
   "id": "04dc4128",
   "metadata": {},
   "outputs": [
    {
     "data": {
      "text/plain": [
       "{'mse': 144285.25718112924, 'mae': 84212.45360770407, 'r2': 0.8338455465458969}"
      ]
     },
     "execution_count": 56,
     "metadata": {},
     "output_type": "execute_result"
    }
   ],
   "source": [
    "# get evaluation metrics on train data\n",
    "pred_train = model_pipeline.predict(feat_train)\n",
    "final_metrics_train = evl.get_scoring_metrics(\n",
    "                        model,\n",
    "                        feat_train,\n",
    "                        target_train,\n",
    "                        pred_train\n",
    ")\n",
    "\n",
    "final_metrics_train"
   ]
  },
  {
   "cell_type": "markdown",
   "id": "0ebada3e",
   "metadata": {},
   "source": [
    "## Feature Importances"
   ]
  },
  {
   "cell_type": "code",
   "execution_count": 57,
   "id": "4329450c",
   "metadata": {},
   "outputs": [
    {
     "data": {
      "image/png": "[encoded data removed]",
      "text/plain": [
       "<Figure size 432x288 with 1 Axes>"
      ]
     },
     "metadata": {
      "needs_background": "light"
     },
     "output_type": "display_data"
    }
   ],
   "source": [
    "transformed_df = model.regressor_.named_steps['preprocess'].transform(feat_test)\n",
    "p.generate_feature_importances_plot(model.regressor_.named_steps['model'], transformed_df)"
   ]
  },
  {
   "cell_type": "code",
   "execution_count": 58,
   "id": "3449af84",
   "metadata": {},
   "outputs": [
    {
     "data": {
      "text/plain": [
       "['trained_models/House_price_prediction_model.joblib']"
      ]
     },
     "execution_count": 58,
     "metadata": {},
     "output_type": "execute_result"
    }
   ],
   "source": [
    "# save the fitted model\n",
    "filename = 'trained_models/House_price_prediction_model.joblib'\n",
    "\n",
    "dump(model, filename) "
   ]
  },
  {
   "cell_type": "code",
   "execution_count": 59,
   "id": "e2f963dd",
   "metadata": {},
   "outputs": [
    {
     "data": {
      "text/plain": [
       "array([ 256582.87, 1413923.09])"
      ]
     },
     "execution_count": 59,
     "metadata": {},
     "output_type": "execute_result"
    }
   ],
   "source": [
    "# Load new data\n",
    "new_df = pd.read_csv('testing_data/test.csv') \n",
    "\n",
    "# load model and get predictions\n",
    "loaded_model = load(filename)\n",
    "pred = loaded_model.predict(new_df)\n",
    "\n",
    "np.round(pred, 2)"
   ]
  },
  {
   "cell_type": "markdown",
   "id": "d275fb77",
   "metadata": {},
   "source": [
    "## To try in next iterations ----\n",
    "\n",
    "- <font color='green'> Attempt at `gathering more descriptive data` about the houses. For eg: house type,\n",
    "  backyard, crime rate,<br> property tax, distance from school & parks.</font>  \n",
    "  \n",
    "- <font color='green'> Run trials with more `feature engineering`, especially on less descriptive features\n",
    "  like grade, condition etc. </font>  \n",
    "  \n",
    "- <font color='green'> Investigate deeper the `impact of features with outliers`. </font>  \n",
    "  \n",
    "- <font color='green'>Experiment with `hyperparameter tuning` for simpler models. Also, try other boosting models. </font>  "
   ]
  },
  {
   "cell_type": "code",
   "execution_count": null,
   "id": "4290509e",
   "metadata": {},
   "outputs": [],
   "source": []
  }
 ],
 "metadata": {
  "kernelspec": {
   "display_name": "Python 3 (ipykernel)",
   "language": "python",
   "name": "python3"
  },
  "language_info": {
   "codemirror_mode": {
    "name": "ipython",
    "version": 3
   },
   "file_extension": ".py",
   "mimetype": "text/x-python",
   "name": "python",
   "nbconvert_exporter": "python",
   "pygments_lexer": "ipython3",
   "version": "3.7.3"
  }
 },
 "nbformat": 4,
 "nbformat_minor": 5
}
