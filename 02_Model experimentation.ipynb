{
 "cells": [
  {
   "cell_type": "code",
   "execution_count": 4,
   "id": "2a10ed56",
   "metadata": {},
   "outputs": [],
   "source": [
    "import pandas as pd\n",
    "import sklearn\n",
    "import sys\n",
    "import plotly.express as px\n",
    "import warnings\n",
    "warnings.filterwarnings('ignore')\n",
    "\n",
    "from sklearn.linear_model import LinearRegression\n",
    "from sklearn.linear_model import Ridge\n",
    "from sklearn.preprocessing import PolynomialFeatures\n",
    "from sklearn.preprocessing import StandardScaler\n",
    "from sklearn.ensemble import RandomForestRegressor\n",
    "from sklearn.ensemble import GradientBoostingRegressor"
   ]
  },
  {
   "cell_type": "code",
   "execution_count": 12,
   "id": "c239f187",
   "metadata": {
    "scrolled": true
   },
   "outputs": [],
   "source": [
    "sys.path.append('src/')\n",
    "\n",
    "import plot as p\n",
    "import utils as u\n",
    "import model_experiments as exp\n",
    "\n",
    "pd.set_option('display.max_columns', 500)"
   ]
  },
  {
   "cell_type": "code",
   "execution_count": 13,
   "id": "71a4f145",
   "metadata": {},
   "outputs": [],
   "source": [
    "# Load data \n",
    "df = pd.read_csv('training_data/kc_house_data.csv') "
   ]
  },
  {
   "cell_type": "code",
   "execution_count": 14,
   "id": "e73d4f13",
   "metadata": {},
   "outputs": [],
   "source": [
    "# dropping duplicate rows keeping latest ones\n",
    "df.sort_values(['id', 'price']).drop_duplicates(subset = 'id', keep = 'last', inplace = True)"
   ]
  },
  {
   "cell_type": "markdown",
   "id": "246f9009",
   "metadata": {},
   "source": [
    "## Modelling experiments"
   ]
  },
  {
   "cell_type": "code",
   "execution_count": 15,
   "id": "c9f439cb",
   "metadata": {},
   "outputs": [],
   "source": [
    "# get feature and target dataframes\n",
    "feat_df = df[df.loc[ :,df.columns != 'price'].columns]\n",
    "target_df = df['price']\n",
    "\n",
    "# get train_test_split dfs\n",
    "feat_train, feat_test, target_train, target_test = u.get_train_test_split(\n",
    "                                                            feat_df,\n",
    "                                                            target_df,\n",
    "                                                            random_state = 1\n",
    "                                                  )"
   ]
  },
  {
   "cell_type": "code",
   "execution_count": 16,
   "id": "1843d32a",
   "metadata": {},
   "outputs": [],
   "source": [
    "feature_sets_dict = { \n",
    "                      'all_preprocessed_features': feat_df.columns,\n",
    "                      'high_correlated_features': [\n",
    "                                                    'date', 'id', 'sqft_basement', 'sqft_above', 'lat', \n",
    "                                                    'long', 'yr_built', 'yr_renovated', 'zipcode', 'sqft_lot',\n",
    "                                                    'sqft_living15', 'sqft_lot15', 'floors',\n",
    "                                                    'bedrooms', 'sqft_living', 'grade',\n",
    "                                                    'bathrooms', 'view', 'waterfront'\n",
    "                                                   ]\n",
    "                    }\n",
    "\n",
    "# list to store cross validation metrics from all experiments\n",
    "metrics = []"
   ]
  },
  {
   "cell_type": "code",
   "execution_count": 7,
   "id": "42c86b9f",
   "metadata": {},
   "outputs": [],
   "source": [
    "exp.run_model_experiments?"
   ]
  },
  {
   "cell_type": "markdown",
   "id": "72ec12e4",
   "metadata": {},
   "source": [
    "### Linear Regression"
   ]
  },
  {
   "cell_type": "code",
   "execution_count": 17,
   "id": "2876c037",
   "metadata": {},
   "outputs": [
    {
     "name": "stdout",
     "output_type": "stream",
     "text": [
      "\u001b[31m[TRAINING] linear_regression ------\u001b[0m\n",
      "\u001b[32m[EXP 0] all_preprocessed_features [DONE]\u001b[0m\n",
      "\u001b[31m[TRAINING] linear_regression ------\u001b[0m\n",
      "\u001b[32m[EXP 1] high_correlated_features [DONE]\u001b[0m\n"
     ]
    }
   ],
   "source": [
    "lm = LinearRegression()\n",
    "\n",
    "metrics = exp.run_model_experiments(\n",
    "                    lm,\n",
    "                    'linear_regression',\n",
    "                    feat_train,\n",
    "                    target_train,\n",
    "                    feature_sets_dict,\n",
    "                    metrics\n",
    ")"
   ]
  },
  {
   "cell_type": "markdown",
   "id": "18047cd2",
   "metadata": {},
   "source": [
    "### Ridge regression"
   ]
  },
  {
   "cell_type": "code",
   "execution_count": 18,
   "id": "41fab1b5",
   "metadata": {},
   "outputs": [
    {
     "name": "stdout",
     "output_type": "stream",
     "text": [
      "\u001b[31m[TRAINING] ridge_regression ------\u001b[0m\n",
      "\u001b[32m[EXP 0] all_preprocessed_features [DONE]\u001b[0m\n",
      "\u001b[31m[TRAINING] ridge_regression ------\u001b[0m\n",
      "\u001b[32m[EXP 1] high_correlated_features [DONE]\u001b[0m\n",
      "\u001b[34m[Running Gridsearch]\u001b[0m\n",
      "\u001b[31m[TRAINING] ridge_regression_grid ------\u001b[0m\n",
      "\u001b[32m[EXP 0] all_preprocessed_features [DONE]\u001b[0m\n",
      "\u001b[31m[TRAINING] ridge_regression_grid ------\u001b[0m\n",
      "\u001b[32m[EXP 1] high_correlated_features [DONE]\u001b[0m\n"
     ]
    }
   ],
   "source": [
    "# run model experiments on ridge regression model\n",
    "RidgeModel = Ridge(alpha = 0.1)\n",
    "metrics = exp.run_model_experiments(\n",
    "                    RidgeModel,\n",
    "                    'ridge_regression',\n",
    "                    feat_train,\n",
    "                    target_train,\n",
    "                    feature_sets_dict,\n",
    "                    metrics\n",
    ")\n",
    "\n",
    "# get fitted grid search object\n",
    "grid = u.get_fitted_grid_object(\n",
    "                        RidgeModel,\n",
    "                        [{'model__alpha': [0.001,0.1,1, 10, 100, 1000, 10000]}],\n",
    "                        feat_train,\n",
    "                        target_train\n",
    "                )\n",
    "            \n",
    "best_params_dict = {\n",
    "                     k.split('__')[1] : v\n",
    "                         for k,v in grid.best_params_.items()\n",
    "                   }\n",
    "\n",
    "# run model experiments with grid search best parameters on ridge model\n",
    "RidgeModel_grid = Ridge(**best_params_dict)\n",
    "metrics = exp.run_model_experiments(\n",
    "                    RidgeModel_grid,\n",
    "                    'ridge_regression_grid',\n",
    "                    feat_train,\n",
    "                    target_train,\n",
    "                    feature_sets_dict,\n",
    "                    metrics\n",
    ")"
   ]
  },
  {
   "cell_type": "code",
   "execution_count": 9,
   "id": "40dc1c53",
   "metadata": {},
   "outputs": [
    {
     "data": {
      "text/plain": [
       "{'alpha': 100}"
      ]
     },
     "execution_count": 9,
     "metadata": {},
     "output_type": "execute_result"
    }
   ],
   "source": [
    "best_params_dict"
   ]
  },
  {
   "cell_type": "markdown",
   "id": "d46e29a9",
   "metadata": {},
   "source": [
    "### Random Forest Regressior"
   ]
  },
  {
   "cell_type": "code",
   "execution_count": 19,
   "id": "12b47121",
   "metadata": {},
   "outputs": [
    {
     "name": "stdout",
     "output_type": "stream",
     "text": [
      "\u001b[31m[TRAINING] random_forest_regressor ------\u001b[0m\n",
      "\u001b[32m[EXP 0] all_preprocessed_features [DONE]\u001b[0m\n",
      "\u001b[31m[TRAINING] random_forest_regressor ------\u001b[0m\n",
      "\u001b[32m[EXP 1] high_correlated_features [DONE]\u001b[0m\n",
      "\u001b[34m[Running Gridsearch]\u001b[0m\n",
      "\u001b[31m[TRAINING] random_forest_regressor_grid ------\u001b[0m\n",
      "\u001b[32m[EXP 0] all_preprocessed_features [DONE]\u001b[0m\n",
      "\u001b[31m[TRAINING] random_forest_regressor_grid ------\u001b[0m\n",
      "\u001b[32m[EXP 1] high_correlated_features [DONE]\u001b[0m\n"
     ]
    }
   ],
   "source": [
    "# run model experiments for random forest\n",
    "RF = RandomForestRegressor(n_estimators=150, n_jobs=2, max_features=3, max_depth=3, random_state=1)\n",
    "metrics = exp.run_model_experiments(\n",
    "                    RF,\n",
    "                    'random_forest_regressor',\n",
    "                    feat_train,\n",
    "                    target_train,\n",
    "                    feature_sets_dict,\n",
    "                    metrics\n",
    ")\n",
    "\n",
    "params = [\n",
    "            {\n",
    "                'model__n_estimators': [150, 200],\n",
    "                'model__max_features': [8, 10, 20],\n",
    "                'model__max_depth': [10, 15, 20]\n",
    "            }\n",
    "         ]\n",
    "\n",
    "# fit grid search object\n",
    "grid = u.get_fitted_grid_object(\n",
    "                    RF,\n",
    "                    params,\n",
    "                    feat_train,\n",
    "                    target_train\n",
    "                    )\n",
    "          \n",
    "best_params_dict = {\n",
    "                     k.split('__')[1] : v\n",
    "                         for k,v in grid.best_params_.items()\n",
    "                   }\n",
    "\n",
    "# run model experiments for random forest with grid search best params\n",
    "RF_grid = RandomForestRegressor(**best_params_dict, random_state=1)\n",
    "metrics = exp.run_model_experiments(\n",
    "                    RF_grid,\n",
    "                    'random_forest_regressor_grid',\n",
    "                    feat_train,\n",
    "                    target_train,\n",
    "                    feature_sets_dict,\n",
    "                    metrics\n",
    ")"
   ]
  },
  {
   "cell_type": "code",
   "execution_count": 22,
   "id": "1ef9fc3d",
   "metadata": {},
   "outputs": [
    {
     "data": {
      "text/plain": [
       "{'max_depth': 15, 'max_features': 10, 'n_estimators': 200}"
      ]
     },
     "execution_count": 22,
     "metadata": {},
     "output_type": "execute_result"
    }
   ],
   "source": [
    "best_params_dict"
   ]
  },
  {
   "cell_type": "markdown",
   "id": "44db806e",
   "metadata": {},
   "source": [
    "### Gradient Boosting Regressor"
   ]
  },
  {
   "cell_type": "code",
   "execution_count": 21,
   "id": "8dc8c3c7",
   "metadata": {},
   "outputs": [
    {
     "name": "stdout",
     "output_type": "stream",
     "text": [
      "\u001b[31m[TRAINING] gradient_boosting_regressor ------\u001b[0m\n",
      "\u001b[32m[EXP 0] all_preprocessed_features [DONE]\u001b[0m\n",
      "\u001b[31m[TRAINING] gradient_boosting_regressor ------\u001b[0m\n",
      "\u001b[32m[EXP 1] high_correlated_features [DONE]\u001b[0m\n",
      "\u001b[34m[Running Gridsearch]\u001b[0m\n",
      "\u001b[31m[TRAINING] gradient_boosting_regressor_grid ------\u001b[0m\n",
      "\u001b[32m[EXP 0] all_preprocessed_features [DONE]\u001b[0m\n",
      "\u001b[31m[TRAINING] gradient_boosting_regressor_grid ------\u001b[0m\n",
      "\u001b[32m[EXP 1] high_correlated_features [DONE]\u001b[0m\n"
     ]
    }
   ],
   "source": [
    "# run model experiments for gradient boosting \n",
    "gb = GradientBoostingRegressor(random_state=1)\n",
    "metrics = exp.run_model_experiments(\n",
    "                    gb,\n",
    "                    'gradient_boosting_regressor',\n",
    "                    feat_train,\n",
    "                    target_train,\n",
    "                    feature_sets_dict,\n",
    "                    metrics\n",
    ")\n",
    "\n",
    "params = [\n",
    "            {\n",
    "                'model__n_estimators': [100, 150],\n",
    "                'model__max_features': [12, 20],\n",
    "                'model__max_depth': [12, 20]\n",
    "            }\n",
    "         ]\n",
    "\n",
    "# fit grid search object\n",
    "grid = u.get_fitted_grid_object(\n",
    "                        gb,\n",
    "                        params,\n",
    "                        feat_train,\n",
    "                        target_train\n",
    "                )\n",
    "            \n",
    "best_params_dict = {\n",
    "                     k.split('__')[1] : v\n",
    "                         for k,v in grid.best_params_.items()\n",
    "                   }\n",
    "\n",
    "# run model experiments for random forest with grid search best params\n",
    "gb_grid = GradientBoostingRegressor(**best_params_dict, random_state=1)\n",
    "metrics = exp.run_model_experiments(\n",
    "                    RF_grid,\n",
    "                    'gradient_boosting_regressor_grid',\n",
    "                    feat_train,\n",
    "                    target_train,\n",
    "                    feature_sets_dict,\n",
    "                    metrics\n",
    ")"
   ]
  },
  {
   "cell_type": "code",
   "execution_count": 22,
   "id": "76f2415f",
   "metadata": {},
   "outputs": [
    {
     "data": {
      "text/plain": [
       "{'max_depth': 12, 'max_features': 12, 'n_estimators': 150}"
      ]
     },
     "execution_count": 22,
     "metadata": {},
     "output_type": "execute_result"
    }
   ],
   "source": [
    "best_params_dict"
   ]
  },
  {
   "cell_type": "markdown",
   "id": "b32bdaea",
   "metadata": {},
   "source": [
    "### Polynomial transformation"
   ]
  },
  {
   "cell_type": "code",
   "execution_count": 23,
   "id": "0b5348ab",
   "metadata": {},
   "outputs": [
    {
     "name": "stdout",
     "output_type": "stream",
     "text": [
      "\u001b[31m[TRAINING] poly_linear_regression ------\u001b[0m\n",
      "\u001b[32m[EXP 0] all_preprocessed_features [DONE]\u001b[0m\n",
      "\u001b[31m[TRAINING] poly_linear_regression ------\u001b[0m\n",
      "\u001b[32m[EXP 1] high_correlated_features [DONE]\u001b[0m\n",
      "\u001b[31m[TRAINING] poly_ridge_regression ------\u001b[0m\n",
      "\u001b[32m[EXP 0] all_preprocessed_features [DONE]\u001b[0m\n",
      "\u001b[31m[TRAINING] poly_ridge_regression ------\u001b[0m\n",
      "\u001b[32m[EXP 1] high_correlated_features [DONE]\u001b[0m\n"
     ]
    }
   ],
   "source": [
    "# Fit and transform the variables with 2nd order polynomial and run exp on linear regression\n",
    "poly_lm = LinearRegression()\n",
    "metrics = exp.run_model_experiments(\n",
    "                    poly_lm,\n",
    "                    'poly_linear_regression',\n",
    "                    feat_train,\n",
    "                    target_train,\n",
    "                    feature_sets_dict,\n",
    "                    metrics,\n",
    "                    is_poly=True\n",
    ")\n",
    "\n",
    "# Fit and transform the variables with 2nd order polynomial and run exp on ridge regression\n",
    "poly_ridge = Ridge(alpha = 0.01)\n",
    "metrics = exp.run_model_experiments(\n",
    "                    poly_ridge,\n",
    "                    'poly_ridge_regression',\n",
    "                    feat_train,\n",
    "                    target_train,\n",
    "                    feature_sets_dict,\n",
    "                    metrics,\n",
    "                    is_poly=True\n",
    ")"
   ]
  },
  {
   "cell_type": "code",
   "execution_count": 24,
   "id": "ba3df03b",
   "metadata": {},
   "outputs": [
    {
     "data": {
      "text/html": [
       "<div>\n",
       "<style scoped>\n",
       "    .dataframe tbody tr th:only-of-type {\n",
       "        vertical-align: middle;\n",
       "    }\n",
       "\n",
       "    .dataframe tbody tr th {\n",
       "        vertical-align: top;\n",
       "    }\n",
       "\n",
       "    .dataframe thead th {\n",
       "        text-align: right;\n",
       "    }\n",
       "</style>\n",
       "<table border=\"1\" class=\"dataframe\">\n",
       "  <thead>\n",
       "    <tr style=\"text-align: right;\">\n",
       "      <th></th>\n",
       "      <th>model_name</th>\n",
       "      <th>feature_set</th>\n",
       "      <th>train_mse_mean</th>\n",
       "      <th>test_mse_mean</th>\n",
       "      <th>train_mse_std</th>\n",
       "      <th>test_mse_std</th>\n",
       "      <th>train_mae_mean</th>\n",
       "      <th>test_mae_mean</th>\n",
       "      <th>train_mae_std</th>\n",
       "      <th>test_mae_std</th>\n",
       "      <th>train_r2_mean</th>\n",
       "      <th>test_r2_mean</th>\n",
       "      <th>train_r2_std</th>\n",
       "      <th>test_r2_std</th>\n",
       "    </tr>\n",
       "  </thead>\n",
       "  <tbody>\n",
       "    <tr>\n",
       "      <th>8</th>\n",
       "      <td>random_forest_regressor_grid</td>\n",
       "      <td>all_preprocessed_features</td>\n",
       "      <td>61559.385207</td>\n",
       "      <td>1.450462e+05</td>\n",
       "      <td>9432.659907</td>\n",
       "      <td>3.306299e+04</td>\n",
       "      <td>36832.465863</td>\n",
       "      <td>8.824707e+04</td>\n",
       "      <td>437.576104</td>\n",
       "      <td>2.355828e+03</td>\n",
       "      <td>0.969755</td>\n",
       "      <td>8.319550e-01</td>\n",
       "      <td>0.000544</td>\n",
       "      <td>5.391982e-03</td>\n",
       "    </tr>\n",
       "    <tr>\n",
       "      <th>12</th>\n",
       "      <td>gradient_boosting_regressor_grid</td>\n",
       "      <td>all_preprocessed_features</td>\n",
       "      <td>61559.385207</td>\n",
       "      <td>1.450462e+05</td>\n",
       "      <td>9432.659907</td>\n",
       "      <td>3.306299e+04</td>\n",
       "      <td>36832.465863</td>\n",
       "      <td>8.824707e+04</td>\n",
       "      <td>437.576104</td>\n",
       "      <td>2.355828e+03</td>\n",
       "      <td>0.969755</td>\n",
       "      <td>8.319550e-01</td>\n",
       "      <td>0.000544</td>\n",
       "      <td>5.391982e-03</td>\n",
       "    </tr>\n",
       "    <tr>\n",
       "      <th>13</th>\n",
       "      <td>gradient_boosting_regressor_grid</td>\n",
       "      <td>high_correlated_features</td>\n",
       "      <td>61416.146621</td>\n",
       "      <td>1.455435e+05</td>\n",
       "      <td>8820.489380</td>\n",
       "      <td>3.210081e+04</td>\n",
       "      <td>36972.112762</td>\n",
       "      <td>8.883986e+04</td>\n",
       "      <td>339.298819</td>\n",
       "      <td>1.887229e+03</td>\n",
       "      <td>0.969893</td>\n",
       "      <td>8.307903e-01</td>\n",
       "      <td>0.000553</td>\n",
       "      <td>4.887752e-03</td>\n",
       "    </tr>\n",
       "    <tr>\n",
       "      <th>9</th>\n",
       "      <td>random_forest_regressor_grid</td>\n",
       "      <td>high_correlated_features</td>\n",
       "      <td>61416.146621</td>\n",
       "      <td>1.455435e+05</td>\n",
       "      <td>8820.489380</td>\n",
       "      <td>3.210081e+04</td>\n",
       "      <td>36972.112762</td>\n",
       "      <td>8.883986e+04</td>\n",
       "      <td>339.298819</td>\n",
       "      <td>1.887229e+03</td>\n",
       "      <td>0.969893</td>\n",
       "      <td>8.307903e-01</td>\n",
       "      <td>0.000553</td>\n",
       "      <td>4.887752e-03</td>\n",
       "    </tr>\n",
       "    <tr>\n",
       "      <th>10</th>\n",
       "      <td>gradient_boosting_regressor</td>\n",
       "      <td>all_preprocessed_features</td>\n",
       "      <td>118893.106552</td>\n",
       "      <td>1.398531e+05</td>\n",
       "      <td>21243.697036</td>\n",
       "      <td>2.874415e+04</td>\n",
       "      <td>71765.909782</td>\n",
       "      <td>8.926845e+04</td>\n",
       "      <td>916.912488</td>\n",
       "      <td>2.438414e+03</td>\n",
       "      <td>0.887175</td>\n",
       "      <td>8.436929e-01</td>\n",
       "      <td>0.003417</td>\n",
       "      <td>5.362001e-03</td>\n",
       "    </tr>\n",
       "    <tr>\n",
       "      <th>11</th>\n",
       "      <td>gradient_boosting_regressor</td>\n",
       "      <td>high_correlated_features</td>\n",
       "      <td>118812.405336</td>\n",
       "      <td>1.417188e+05</td>\n",
       "      <td>20630.498047</td>\n",
       "      <td>2.853717e+04</td>\n",
       "      <td>72001.241436</td>\n",
       "      <td>9.116246e+04</td>\n",
       "      <td>848.704054</td>\n",
       "      <td>2.648621e+03</td>\n",
       "      <td>0.887329</td>\n",
       "      <td>8.394764e-01</td>\n",
       "      <td>0.003161</td>\n",
       "      <td>5.601768e-03</td>\n",
       "    </tr>\n",
       "    <tr>\n",
       "      <th>4</th>\n",
       "      <td>ridge_regression_grid</td>\n",
       "      <td>all_preprocessed_features</td>\n",
       "      <td>163251.008832</td>\n",
       "      <td>1.686620e+05</td>\n",
       "      <td>37995.881416</td>\n",
       "      <td>8.184802e+04</td>\n",
       "      <td>94474.472579</td>\n",
       "      <td>9.719014e+04</td>\n",
       "      <td>326.394665</td>\n",
       "      <td>1.020057e+03</td>\n",
       "      <td>0.787267</td>\n",
       "      <td>7.732251e-01</td>\n",
       "      <td>0.011708</td>\n",
       "      <td>4.965921e-02</td>\n",
       "    </tr>\n",
       "    <tr>\n",
       "      <th>2</th>\n",
       "      <td>ridge_regression</td>\n",
       "      <td>all_preprocessed_features</td>\n",
       "      <td>164238.267539</td>\n",
       "      <td>1.696817e+05</td>\n",
       "      <td>38684.157776</td>\n",
       "      <td>8.419962e+04</td>\n",
       "      <td>94532.531831</td>\n",
       "      <td>9.724125e+04</td>\n",
       "      <td>326.281419</td>\n",
       "      <td>1.145849e+03</td>\n",
       "      <td>0.784686</td>\n",
       "      <td>7.705483e-01</td>\n",
       "      <td>0.012140</td>\n",
       "      <td>5.252925e-02</td>\n",
       "    </tr>\n",
       "    <tr>\n",
       "      <th>0</th>\n",
       "      <td>linear_regression</td>\n",
       "      <td>all_preprocessed_features</td>\n",
       "      <td>164677.560694</td>\n",
       "      <td>1.714312e+05</td>\n",
       "      <td>37319.196303</td>\n",
       "      <td>9.054877e+04</td>\n",
       "      <td>94604.897623</td>\n",
       "      <td>9.736940e+04</td>\n",
       "      <td>263.628717</td>\n",
       "      <td>1.316984e+03</td>\n",
       "      <td>0.783516</td>\n",
       "      <td>7.659447e-01</td>\n",
       "      <td>0.011637</td>\n",
       "      <td>6.095818e-02</td>\n",
       "    </tr>\n",
       "    <tr>\n",
       "      <th>5</th>\n",
       "      <td>ridge_regression_grid</td>\n",
       "      <td>high_correlated_features</td>\n",
       "      <td>166267.340683</td>\n",
       "      <td>1.721514e+05</td>\n",
       "      <td>40559.016816</td>\n",
       "      <td>8.769053e+04</td>\n",
       "      <td>95565.827660</td>\n",
       "      <td>9.847164e+04</td>\n",
       "      <td>387.772420</td>\n",
       "      <td>1.122012e+03</td>\n",
       "      <td>0.779339</td>\n",
       "      <td>7.638568e-01</td>\n",
       "      <td>0.013229</td>\n",
       "      <td>5.717036e-02</td>\n",
       "    </tr>\n",
       "    <tr>\n",
       "      <th>3</th>\n",
       "      <td>ridge_regression</td>\n",
       "      <td>high_correlated_features</td>\n",
       "      <td>167310.104081</td>\n",
       "      <td>1.732306e+05</td>\n",
       "      <td>41282.494590</td>\n",
       "      <td>9.012705e+04</td>\n",
       "      <td>95618.391318</td>\n",
       "      <td>9.852670e+04</td>\n",
       "      <td>389.298935</td>\n",
       "      <td>1.263983e+03</td>\n",
       "      <td>0.776562</td>\n",
       "      <td>7.609673e-01</td>\n",
       "      <td>0.013711</td>\n",
       "      <td>6.038055e-02</td>\n",
       "    </tr>\n",
       "    <tr>\n",
       "      <th>1</th>\n",
       "      <td>linear_regression</td>\n",
       "      <td>high_correlated_features</td>\n",
       "      <td>167478.178988</td>\n",
       "      <td>1.733657e+05</td>\n",
       "      <td>41557.370360</td>\n",
       "      <td>9.047650e+04</td>\n",
       "      <td>95670.991390</td>\n",
       "      <td>9.855853e+04</td>\n",
       "      <td>432.687689</td>\n",
       "      <td>1.242906e+03</td>\n",
       "      <td>0.776115</td>\n",
       "      <td>7.606034e-01</td>\n",
       "      <td>0.013851</td>\n",
       "      <td>6.085518e-02</td>\n",
       "    </tr>\n",
       "    <tr>\n",
       "      <th>16</th>\n",
       "      <td>poly_ridge_regression</td>\n",
       "      <td>all_preprocessed_features</td>\n",
       "      <td>124698.628288</td>\n",
       "      <td>1.516860e+05</td>\n",
       "      <td>15500.254419</td>\n",
       "      <td>4.791633e+04</td>\n",
       "      <td>81511.230163</td>\n",
       "      <td>1.017882e+05</td>\n",
       "      <td>467.993583</td>\n",
       "      <td>3.402023e+03</td>\n",
       "      <td>0.875884</td>\n",
       "      <td>8.164829e-01</td>\n",
       "      <td>0.001737</td>\n",
       "      <td>1.333449e-02</td>\n",
       "    </tr>\n",
       "    <tr>\n",
       "      <th>17</th>\n",
       "      <td>poly_ridge_regression</td>\n",
       "      <td>high_correlated_features</td>\n",
       "      <td>126409.529096</td>\n",
       "      <td>1.536363e+05</td>\n",
       "      <td>15959.955966</td>\n",
       "      <td>4.857935e+04</td>\n",
       "      <td>82595.934483</td>\n",
       "      <td>1.027505e+05</td>\n",
       "      <td>440.979898</td>\n",
       "      <td>3.431250e+03</td>\n",
       "      <td>0.872455</td>\n",
       "      <td>8.117792e-01</td>\n",
       "      <td>0.001838</td>\n",
       "      <td>1.314577e-02</td>\n",
       "    </tr>\n",
       "    <tr>\n",
       "      <th>7</th>\n",
       "      <td>random_forest_regressor</td>\n",
       "      <td>high_correlated_features</td>\n",
       "      <td>269682.931687</td>\n",
       "      <td>2.694136e+05</td>\n",
       "      <td>33662.925300</td>\n",
       "      <td>7.903991e+04</td>\n",
       "      <td>152214.795795</td>\n",
       "      <td>1.534682e+05</td>\n",
       "      <td>702.537844</td>\n",
       "      <td>2.651798e+03</td>\n",
       "      <td>0.419537</td>\n",
       "      <td>4.214955e-01</td>\n",
       "      <td>0.003367</td>\n",
       "      <td>1.921015e-02</td>\n",
       "    </tr>\n",
       "    <tr>\n",
       "      <th>6</th>\n",
       "      <td>random_forest_regressor</td>\n",
       "      <td>all_preprocessed_features</td>\n",
       "      <td>272887.519699</td>\n",
       "      <td>2.731380e+05</td>\n",
       "      <td>36596.567927</td>\n",
       "      <td>7.705030e+04</td>\n",
       "      <td>155237.288316</td>\n",
       "      <td>1.567887e+05</td>\n",
       "      <td>872.455104</td>\n",
       "      <td>2.399591e+03</td>\n",
       "      <td>0.405673</td>\n",
       "      <td>4.051591e-01</td>\n",
       "      <td>0.004976</td>\n",
       "      <td>1.707085e-02</td>\n",
       "    </tr>\n",
       "    <tr>\n",
       "      <th>15</th>\n",
       "      <td>poly_linear_regression</td>\n",
       "      <td>high_correlated_features</td>\n",
       "      <td>126409.895863</td>\n",
       "      <td>1.797723e+13</td>\n",
       "      <td>15960.406374</td>\n",
       "      <td>2.542364e+13</td>\n",
       "      <td>82595.280576</td>\n",
       "      <td>1.367180e+11</td>\n",
       "      <td>441.151031</td>\n",
       "      <td>2.734358e+11</td>\n",
       "      <td>0.872454</td>\n",
       "      <td>-2.508594e+15</td>\n",
       "      <td>0.001839</td>\n",
       "      <td>5.017188e+15</td>\n",
       "    </tr>\n",
       "    <tr>\n",
       "      <th>14</th>\n",
       "      <td>poly_linear_regression</td>\n",
       "      <td>all_preprocessed_features</td>\n",
       "      <td>124730.918330</td>\n",
       "      <td>7.849986e+14</td>\n",
       "      <td>15183.655804</td>\n",
       "      <td>1.110095e+15</td>\n",
       "      <td>81528.706661</td>\n",
       "      <td>6.025323e+12</td>\n",
       "      <td>417.412375</td>\n",
       "      <td>1.191208e+13</td>\n",
       "      <td>0.875819</td>\n",
       "      <td>-4.783280e+18</td>\n",
       "      <td>0.001701</td>\n",
       "      <td>9.565433e+18</td>\n",
       "    </tr>\n",
       "  </tbody>\n",
       "</table>\n",
       "</div>"
      ],
      "text/plain": [
       "                          model_name                feature_set  \\\n",
       "8       random_forest_regressor_grid  all_preprocessed_features   \n",
       "12  gradient_boosting_regressor_grid  all_preprocessed_features   \n",
       "13  gradient_boosting_regressor_grid   high_correlated_features   \n",
       "9       random_forest_regressor_grid   high_correlated_features   \n",
       "10       gradient_boosting_regressor  all_preprocessed_features   \n",
       "11       gradient_boosting_regressor   high_correlated_features   \n",
       "4              ridge_regression_grid  all_preprocessed_features   \n",
       "2                   ridge_regression  all_preprocessed_features   \n",
       "0                  linear_regression  all_preprocessed_features   \n",
       "5              ridge_regression_grid   high_correlated_features   \n",
       "3                   ridge_regression   high_correlated_features   \n",
       "1                  linear_regression   high_correlated_features   \n",
       "16             poly_ridge_regression  all_preprocessed_features   \n",
       "17             poly_ridge_regression   high_correlated_features   \n",
       "7            random_forest_regressor   high_correlated_features   \n",
       "6            random_forest_regressor  all_preprocessed_features   \n",
       "15            poly_linear_regression   high_correlated_features   \n",
       "14            poly_linear_regression  all_preprocessed_features   \n",
       "\n",
       "    train_mse_mean  test_mse_mean  train_mse_std  test_mse_std  \\\n",
       "8     61559.385207   1.450462e+05    9432.659907  3.306299e+04   \n",
       "12    61559.385207   1.450462e+05    9432.659907  3.306299e+04   \n",
       "13    61416.146621   1.455435e+05    8820.489380  3.210081e+04   \n",
       "9     61416.146621   1.455435e+05    8820.489380  3.210081e+04   \n",
       "10   118893.106552   1.398531e+05   21243.697036  2.874415e+04   \n",
       "11   118812.405336   1.417188e+05   20630.498047  2.853717e+04   \n",
       "4    163251.008832   1.686620e+05   37995.881416  8.184802e+04   \n",
       "2    164238.267539   1.696817e+05   38684.157776  8.419962e+04   \n",
       "0    164677.560694   1.714312e+05   37319.196303  9.054877e+04   \n",
       "5    166267.340683   1.721514e+05   40559.016816  8.769053e+04   \n",
       "3    167310.104081   1.732306e+05   41282.494590  9.012705e+04   \n",
       "1    167478.178988   1.733657e+05   41557.370360  9.047650e+04   \n",
       "16   124698.628288   1.516860e+05   15500.254419  4.791633e+04   \n",
       "17   126409.529096   1.536363e+05   15959.955966  4.857935e+04   \n",
       "7    269682.931687   2.694136e+05   33662.925300  7.903991e+04   \n",
       "6    272887.519699   2.731380e+05   36596.567927  7.705030e+04   \n",
       "15   126409.895863   1.797723e+13   15960.406374  2.542364e+13   \n",
       "14   124730.918330   7.849986e+14   15183.655804  1.110095e+15   \n",
       "\n",
       "    train_mae_mean  test_mae_mean  train_mae_std  test_mae_std  train_r2_mean  \\\n",
       "8     36832.465863   8.824707e+04     437.576104  2.355828e+03       0.969755   \n",
       "12    36832.465863   8.824707e+04     437.576104  2.355828e+03       0.969755   \n",
       "13    36972.112762   8.883986e+04     339.298819  1.887229e+03       0.969893   \n",
       "9     36972.112762   8.883986e+04     339.298819  1.887229e+03       0.969893   \n",
       "10    71765.909782   8.926845e+04     916.912488  2.438414e+03       0.887175   \n",
       "11    72001.241436   9.116246e+04     848.704054  2.648621e+03       0.887329   \n",
       "4     94474.472579   9.719014e+04     326.394665  1.020057e+03       0.787267   \n",
       "2     94532.531831   9.724125e+04     326.281419  1.145849e+03       0.784686   \n",
       "0     94604.897623   9.736940e+04     263.628717  1.316984e+03       0.783516   \n",
       "5     95565.827660   9.847164e+04     387.772420  1.122012e+03       0.779339   \n",
       "3     95618.391318   9.852670e+04     389.298935  1.263983e+03       0.776562   \n",
       "1     95670.991390   9.855853e+04     432.687689  1.242906e+03       0.776115   \n",
       "16    81511.230163   1.017882e+05     467.993583  3.402023e+03       0.875884   \n",
       "17    82595.934483   1.027505e+05     440.979898  3.431250e+03       0.872455   \n",
       "7    152214.795795   1.534682e+05     702.537844  2.651798e+03       0.419537   \n",
       "6    155237.288316   1.567887e+05     872.455104  2.399591e+03       0.405673   \n",
       "15    82595.280576   1.367180e+11     441.151031  2.734358e+11       0.872454   \n",
       "14    81528.706661   6.025323e+12     417.412375  1.191208e+13       0.875819   \n",
       "\n",
       "    test_r2_mean  train_r2_std   test_r2_std  \n",
       "8   8.319550e-01      0.000544  5.391982e-03  \n",
       "12  8.319550e-01      0.000544  5.391982e-03  \n",
       "13  8.307903e-01      0.000553  4.887752e-03  \n",
       "9   8.307903e-01      0.000553  4.887752e-03  \n",
       "10  8.436929e-01      0.003417  5.362001e-03  \n",
       "11  8.394764e-01      0.003161  5.601768e-03  \n",
       "4   7.732251e-01      0.011708  4.965921e-02  \n",
       "2   7.705483e-01      0.012140  5.252925e-02  \n",
       "0   7.659447e-01      0.011637  6.095818e-02  \n",
       "5   7.638568e-01      0.013229  5.717036e-02  \n",
       "3   7.609673e-01      0.013711  6.038055e-02  \n",
       "1   7.606034e-01      0.013851  6.085518e-02  \n",
       "16  8.164829e-01      0.001737  1.333449e-02  \n",
       "17  8.117792e-01      0.001838  1.314577e-02  \n",
       "7   4.214955e-01      0.003367  1.921015e-02  \n",
       "6   4.051591e-01      0.004976  1.707085e-02  \n",
       "15 -2.508594e+15      0.001839  5.017188e+15  \n",
       "14 -4.783280e+18      0.001701  9.565433e+18  "
      ]
     },
     "execution_count": 24,
     "metadata": {},
     "output_type": "execute_result"
    }
   ],
   "source": [
    "metrics_df = pd.DataFrame(metrics).sort_values(by='test_mae_mean', ascending = True)\n",
    "metrics_df"
   ]
  },
  {
   "cell_type": "markdown",
   "id": "7fcd556f",
   "metadata": {},
   "source": [
    "## Plot evaluation metrics of experiments"
   ]
  },
  {
   "cell_type": "code",
   "execution_count": 31,
   "id": "b4959704",
   "metadata": {},
   "outputs": [
    {
     "data": {
      "application/vnd.plotly.v1+json": {
       "config": {
        "plotlyServerURL": "https://plot.ly"
       },
       "data": [
        {
         "hovertemplate": "feature_set=all_preprocessed_features<br>model_name=%{x}<br>test_mae_mean=%{y}<extra></extra>",
         "legendgroup": "all_preprocessed_features",
         "line": {
          "color": "#636efa",
          "dash": "solid"
         },
         "mode": "lines",
         "name": "all_preprocessed_features",
         "orientation": "v",
         "showlegend": true,
         "type": "scatter",
         "x": [
          "random_forest_regressor_grid",
          "gradient_boosting_regressor_grid",
          "gradient_boosting_regressor",
          "ridge_regression_grid",
          "ridge_regression",
          "linear_regression",
          "poly_ridge_regression",
          "random_forest_regressor"
         ],
         "xaxis": "x",
         "y": [
          88247.06756746516,
          88247.06756746516,
          89268.44555586338,
          97190.1356017658,
          97241.25127607882,
          97369.39981810321,
          101788.24418824141,
          156788.68109031543
         ],
         "yaxis": "y"
        },
        {
         "hovertemplate": "feature_set=high_correlated_features<br>model_name=%{x}<br>test_mae_mean=%{y}<extra></extra>",
         "legendgroup": "high_correlated_features",
         "line": {
          "color": "#EF553B",
          "dash": "solid"
         },
         "mode": "lines",
         "name": "high_correlated_features",
         "orientation": "v",
         "showlegend": true,
         "type": "scatter",
         "x": [
          "gradient_boosting_regressor_grid",
          "random_forest_regressor_grid",
          "gradient_boosting_regressor",
          "ridge_regression_grid",
          "ridge_regression",
          "linear_regression",
          "poly_ridge_regression",
          "random_forest_regressor"
         ],
         "xaxis": "x",
         "y": [
          88839.85896266904,
          88839.85896266904,
          91162.46223352058,
          98471.6385124411,
          98526.69542549466,
          98558.52698980898,
          102750.47485054804,
          153468.20747311562
         ],
         "yaxis": "y"
        }
       ],
       "layout": {
        "legend": {
         "title": {
          "text": "feature_set"
         },
         "tracegroupgap": 0
        },
        "template": {
         "data": {
          "bar": [
           {
            "error_x": {
             "color": "#2a3f5f"
            },
            "error_y": {
             "color": "#2a3f5f"
            },
            "marker": {
             "line": {
              "color": "#E5ECF6",
              "width": 0.5
             },
             "pattern": {
              "fillmode": "overlay",
              "size": 10,
              "solidity": 0.2
             }
            },
            "type": "bar"
           }
          ],
          "barpolar": [
           {
            "marker": {
             "line": {
              "color": "#E5ECF6",
              "width": 0.5
             },
             "pattern": {
              "fillmode": "overlay",
              "size": 10,
              "solidity": 0.2
             }
            },
            "type": "barpolar"
           }
          ],
          "carpet": [
           {
            "aaxis": {
             "endlinecolor": "#2a3f5f",
             "gridcolor": "white",
             "linecolor": "white",
             "minorgridcolor": "white",
             "startlinecolor": "#2a3f5f"
            },
            "baxis": {
             "endlinecolor": "#2a3f5f",
             "gridcolor": "white",
             "linecolor": "white",
             "minorgridcolor": "white",
             "startlinecolor": "#2a3f5f"
            },
            "type": "carpet"
           }
          ],
          "choropleth": [
           {
            "colorbar": {
             "outlinewidth": 0,
             "ticks": ""
            },
            "type": "choropleth"
           }
          ],
          "contour": [
           {
            "colorbar": {
             "outlinewidth": 0,
             "ticks": ""
            },
            "colorscale": [
             [
              0,
              "#0d0887"
             ],
             [
              0.1111111111111111,
              "#46039f"
             ],
             [
              0.2222222222222222,
              "#7201a8"
             ],
             [
              0.3333333333333333,
              "#9c179e"
             ],
             [
              0.4444444444444444,
              "#bd3786"
             ],
             [
              0.5555555555555556,
              "#d8576b"
             ],
             [
              0.6666666666666666,
              "#ed7953"
             ],
             [
              0.7777777777777778,
              "#fb9f3a"
             ],
             [
              0.8888888888888888,
              "#fdca26"
             ],
             [
              1,
              "#f0f921"
             ]
            ],
            "type": "contour"
           }
          ],
          "contourcarpet": [
           {
            "colorbar": {
             "outlinewidth": 0,
             "ticks": ""
            },
            "type": "contourcarpet"
           }
          ],
          "heatmap": [
           {
            "colorbar": {
             "outlinewidth": 0,
             "ticks": ""
            },
            "colorscale": [
             [
              0,
              "#0d0887"
             ],
             [
              0.1111111111111111,
              "#46039f"
             ],
             [
              0.2222222222222222,
              "#7201a8"
             ],
             [
              0.3333333333333333,
              "#9c179e"
             ],
             [
              0.4444444444444444,
              "#bd3786"
             ],
             [
              0.5555555555555556,
              "#d8576b"
             ],
             [
              0.6666666666666666,
              "#ed7953"
             ],
             [
              0.7777777777777778,
              "#fb9f3a"
             ],
             [
              0.8888888888888888,
              "#fdca26"
             ],
             [
              1,
              "#f0f921"
             ]
            ],
            "type": "heatmap"
           }
          ],
          "heatmapgl": [
           {
            "colorbar": {
             "outlinewidth": 0,
             "ticks": ""
            },
            "colorscale": [
             [
              0,
              "#0d0887"
             ],
             [
              0.1111111111111111,
              "#46039f"
             ],
             [
              0.2222222222222222,
              "#7201a8"
             ],
             [
              0.3333333333333333,
              "#9c179e"
             ],
             [
              0.4444444444444444,
              "#bd3786"
             ],
             [
              0.5555555555555556,
              "#d8576b"
             ],
             [
              0.6666666666666666,
              "#ed7953"
             ],
             [
              0.7777777777777778,
              "#fb9f3a"
             ],
             [
              0.8888888888888888,
              "#fdca26"
             ],
             [
              1,
              "#f0f921"
             ]
            ],
            "type": "heatmapgl"
           }
          ],
          "histogram": [
           {
            "marker": {
             "pattern": {
              "fillmode": "overlay",
              "size": 10,
              "solidity": 0.2
             }
            },
            "type": "histogram"
           }
          ],
          "histogram2d": [
           {
            "colorbar": {
             "outlinewidth": 0,
             "ticks": ""
            },
            "colorscale": [
             [
              0,
              "#0d0887"
             ],
             [
              0.1111111111111111,
              "#46039f"
             ],
             [
              0.2222222222222222,
              "#7201a8"
             ],
             [
              0.3333333333333333,
              "#9c179e"
             ],
             [
              0.4444444444444444,
              "#bd3786"
             ],
             [
              0.5555555555555556,
              "#d8576b"
             ],
             [
              0.6666666666666666,
              "#ed7953"
             ],
             [
              0.7777777777777778,
              "#fb9f3a"
             ],
             [
              0.8888888888888888,
              "#fdca26"
             ],
             [
              1,
              "#f0f921"
             ]
            ],
            "type": "histogram2d"
           }
          ],
          "histogram2dcontour": [
           {
            "colorbar": {
             "outlinewidth": 0,
             "ticks": ""
            },
            "colorscale": [
             [
              0,
              "#0d0887"
             ],
             [
              0.1111111111111111,
              "#46039f"
             ],
             [
              0.2222222222222222,
              "#7201a8"
             ],
             [
              0.3333333333333333,
              "#9c179e"
             ],
             [
              0.4444444444444444,
              "#bd3786"
             ],
             [
              0.5555555555555556,
              "#d8576b"
             ],
             [
              0.6666666666666666,
              "#ed7953"
             ],
             [
              0.7777777777777778,
              "#fb9f3a"
             ],
             [
              0.8888888888888888,
              "#fdca26"
             ],
             [
              1,
              "#f0f921"
             ]
            ],
            "type": "histogram2dcontour"
           }
          ],
          "mesh3d": [
           {
            "colorbar": {
             "outlinewidth": 0,
             "ticks": ""
            },
            "type": "mesh3d"
           }
          ],
          "parcoords": [
           {
            "line": {
             "colorbar": {
              "outlinewidth": 0,
              "ticks": ""
             }
            },
            "type": "parcoords"
           }
          ],
          "pie": [
           {
            "automargin": true,
            "type": "pie"
           }
          ],
          "scatter": [
           {
            "marker": {
             "colorbar": {
              "outlinewidth": 0,
              "ticks": ""
             }
            },
            "type": "scatter"
           }
          ],
          "scatter3d": [
           {
            "line": {
             "colorbar": {
              "outlinewidth": 0,
              "ticks": ""
             }
            },
            "marker": {
             "colorbar": {
              "outlinewidth": 0,
              "ticks": ""
             }
            },
            "type": "scatter3d"
           }
          ],
          "scattercarpet": [
           {
            "marker": {
             "colorbar": {
              "outlinewidth": 0,
              "ticks": ""
             }
            },
            "type": "scattercarpet"
           }
          ],
          "scattergeo": [
           {
            "marker": {
             "colorbar": {
              "outlinewidth": 0,
              "ticks": ""
             }
            },
            "type": "scattergeo"
           }
          ],
          "scattergl": [
           {
            "marker": {
             "colorbar": {
              "outlinewidth": 0,
              "ticks": ""
             }
            },
            "type": "scattergl"
           }
          ],
          "scattermapbox": [
           {
            "marker": {
             "colorbar": {
              "outlinewidth": 0,
              "ticks": ""
             }
            },
            "type": "scattermapbox"
           }
          ],
          "scatterpolar": [
           {
            "marker": {
             "colorbar": {
              "outlinewidth": 0,
              "ticks": ""
             }
            },
            "type": "scatterpolar"
           }
          ],
          "scatterpolargl": [
           {
            "marker": {
             "colorbar": {
              "outlinewidth": 0,
              "ticks": ""
             }
            },
            "type": "scatterpolargl"
           }
          ],
          "scatterternary": [
           {
            "marker": {
             "colorbar": {
              "outlinewidth": 0,
              "ticks": ""
             }
            },
            "type": "scatterternary"
           }
          ],
          "surface": [
           {
            "colorbar": {
             "outlinewidth": 0,
             "ticks": ""
            },
            "colorscale": [
             [
              0,
              "#0d0887"
             ],
             [
              0.1111111111111111,
              "#46039f"
             ],
             [
              0.2222222222222222,
              "#7201a8"
             ],
             [
              0.3333333333333333,
              "#9c179e"
             ],
             [
              0.4444444444444444,
              "#bd3786"
             ],
             [
              0.5555555555555556,
              "#d8576b"
             ],
             [
              0.6666666666666666,
              "#ed7953"
             ],
             [
              0.7777777777777778,
              "#fb9f3a"
             ],
             [
              0.8888888888888888,
              "#fdca26"
             ],
             [
              1,
              "#f0f921"
             ]
            ],
            "type": "surface"
           }
          ],
          "table": [
           {
            "cells": {
             "fill": {
              "color": "#EBF0F8"
             },
             "line": {
              "color": "white"
             }
            },
            "header": {
             "fill": {
              "color": "#C8D4E3"
             },
             "line": {
              "color": "white"
             }
            },
            "type": "table"
           }
          ]
         },
         "layout": {
          "annotationdefaults": {
           "arrowcolor": "#2a3f5f",
           "arrowhead": 0,
           "arrowwidth": 1
          },
          "autotypenumbers": "strict",
          "coloraxis": {
           "colorbar": {
            "outlinewidth": 0,
            "ticks": ""
           }
          },
          "colorscale": {
           "diverging": [
            [
             0,
             "#8e0152"
            ],
            [
             0.1,
             "#c51b7d"
            ],
            [
             0.2,
             "#de77ae"
            ],
            [
             0.3,
             "#f1b6da"
            ],
            [
             0.4,
             "#fde0ef"
            ],
            [
             0.5,
             "#f7f7f7"
            ],
            [
             0.6,
             "#e6f5d0"
            ],
            [
             0.7,
             "#b8e186"
            ],
            [
             0.8,
             "#7fbc41"
            ],
            [
             0.9,
             "#4d9221"
            ],
            [
             1,
             "#276419"
            ]
           ],
           "sequential": [
            [
             0,
             "#0d0887"
            ],
            [
             0.1111111111111111,
             "#46039f"
            ],
            [
             0.2222222222222222,
             "#7201a8"
            ],
            [
             0.3333333333333333,
             "#9c179e"
            ],
            [
             0.4444444444444444,
             "#bd3786"
            ],
            [
             0.5555555555555556,
             "#d8576b"
            ],
            [
             0.6666666666666666,
             "#ed7953"
            ],
            [
             0.7777777777777778,
             "#fb9f3a"
            ],
            [
             0.8888888888888888,
             "#fdca26"
            ],
            [
             1,
             "#f0f921"
            ]
           ],
           "sequentialminus": [
            [
             0,
             "#0d0887"
            ],
            [
             0.1111111111111111,
             "#46039f"
            ],
            [
             0.2222222222222222,
             "#7201a8"
            ],
            [
             0.3333333333333333,
             "#9c179e"
            ],
            [
             0.4444444444444444,
             "#bd3786"
            ],
            [
             0.5555555555555556,
             "#d8576b"
            ],
            [
             0.6666666666666666,
             "#ed7953"
            ],
            [
             0.7777777777777778,
             "#fb9f3a"
            ],
            [
             0.8888888888888888,
             "#fdca26"
            ],
            [
             1,
             "#f0f921"
            ]
           ]
          },
          "colorway": [
           "#636efa",
           "#EF553B",
           "#00cc96",
           "#ab63fa",
           "#FFA15A",
           "#19d3f3",
           "#FF6692",
           "#B6E880",
           "#FF97FF",
           "#FECB52"
          ],
          "font": {
           "color": "#2a3f5f"
          },
          "geo": {
           "bgcolor": "white",
           "lakecolor": "white",
           "landcolor": "#E5ECF6",
           "showlakes": true,
           "showland": true,
           "subunitcolor": "white"
          },
          "hoverlabel": {
           "align": "left"
          },
          "hovermode": "closest",
          "mapbox": {
           "style": "light"
          },
          "paper_bgcolor": "white",
          "plot_bgcolor": "#E5ECF6",
          "polar": {
           "angularaxis": {
            "gridcolor": "white",
            "linecolor": "white",
            "ticks": ""
           },
           "bgcolor": "#E5ECF6",
           "radialaxis": {
            "gridcolor": "white",
            "linecolor": "white",
            "ticks": ""
           }
          },
          "scene": {
           "xaxis": {
            "backgroundcolor": "#E5ECF6",
            "gridcolor": "white",
            "gridwidth": 2,
            "linecolor": "white",
            "showbackground": true,
            "ticks": "",
            "zerolinecolor": "white"
           },
           "yaxis": {
            "backgroundcolor": "#E5ECF6",
            "gridcolor": "white",
            "gridwidth": 2,
            "linecolor": "white",
            "showbackground": true,
            "ticks": "",
            "zerolinecolor": "white"
           },
           "zaxis": {
            "backgroundcolor": "#E5ECF6",
            "gridcolor": "white",
            "gridwidth": 2,
            "linecolor": "white",
            "showbackground": true,
            "ticks": "",
            "zerolinecolor": "white"
           }
          },
          "shapedefaults": {
           "line": {
            "color": "#2a3f5f"
           }
          },
          "ternary": {
           "aaxis": {
            "gridcolor": "white",
            "linecolor": "white",
            "ticks": ""
           },
           "baxis": {
            "gridcolor": "white",
            "linecolor": "white",
            "ticks": ""
           },
           "bgcolor": "#E5ECF6",
           "caxis": {
            "gridcolor": "white",
            "linecolor": "white",
            "ticks": ""
           }
          },
          "title": {
           "x": 0.05
          },
          "xaxis": {
           "automargin": true,
           "gridcolor": "white",
           "linecolor": "white",
           "ticks": "",
           "title": {
            "standoff": 15
           },
           "zerolinecolor": "white",
           "zerolinewidth": 2
          },
          "yaxis": {
           "automargin": true,
           "gridcolor": "white",
           "linecolor": "white",
           "ticks": "",
           "title": {
            "standoff": 15
           },
           "zerolinecolor": "white",
           "zerolinewidth": 2
          }
         }
        },
        "title": {
         "text": "MAE vs Model experiment"
        },
        "xaxis": {
         "anchor": "y",
         "domain": [
          0,
          1
         ],
         "title": {
          "text": "model_name"
         }
        },
        "yaxis": {
         "anchor": "x",
         "domain": [
          0,
          1
         ],
         "title": {
          "text": "test_mae_mean"
         }
        }
       }
      },
      "text/html": [
       "<div>                            <div id=\"c36bf153-f377-496c-8894-b9117d44b3ea\" class=\"plotly-graph-div\" style=\"height:525px; width:100%;\"></div>            <script type=\"text/javascript\">                require([\"plotly\"], function(Plotly) {                    window.PLOTLYENV=window.PLOTLYENV || {};                                    if (document.getElementById(\"c36bf153-f377-496c-8894-b9117d44b3ea\")) {                    Plotly.newPlot(                        \"c36bf153-f377-496c-8894-b9117d44b3ea\",                        [{\"hovertemplate\":\"feature_set=all_preprocessed_features<br>model_name=%{x}<br>test_mae_mean=%{y}<extra></extra>\",\"legendgroup\":\"all_preprocessed_features\",\"line\":{\"color\":\"#636efa\",\"dash\":\"solid\"},\"mode\":\"lines\",\"name\":\"all_preprocessed_features\",\"orientation\":\"v\",\"showlegend\":true,\"type\":\"scatter\",\"x\":[\"random_forest_regressor_grid\",\"gradient_boosting_regressor_grid\",\"gradient_boosting_regressor\",\"ridge_regression_grid\",\"ridge_regression\",\"linear_regression\",\"poly_ridge_regression\",\"random_forest_regressor\"],\"xaxis\":\"x\",\"y\":[88247.06756746516,88247.06756746516,89268.44555586338,97190.1356017658,97241.25127607882,97369.39981810321,101788.24418824141,156788.68109031543],\"yaxis\":\"y\"},{\"hovertemplate\":\"feature_set=high_correlated_features<br>model_name=%{x}<br>test_mae_mean=%{y}<extra></extra>\",\"legendgroup\":\"high_correlated_features\",\"line\":{\"color\":\"#EF553B\",\"dash\":\"solid\"},\"mode\":\"lines\",\"name\":\"high_correlated_features\",\"orientation\":\"v\",\"showlegend\":true,\"type\":\"scatter\",\"x\":[\"gradient_boosting_regressor_grid\",\"random_forest_regressor_grid\",\"gradient_boosting_regressor\",\"ridge_regression_grid\",\"ridge_regression\",\"linear_regression\",\"poly_ridge_regression\",\"random_forest_regressor\"],\"xaxis\":\"x\",\"y\":[88839.85896266904,88839.85896266904,91162.46223352058,98471.6385124411,98526.69542549466,98558.52698980898,102750.47485054804,153468.20747311562],\"yaxis\":\"y\"}],                        {\"legend\":{\"title\":{\"text\":\"feature_set\"},\"tracegroupgap\":0},\"template\":{\"data\":{\"bar\":[{\"error_x\":{\"color\":\"#2a3f5f\"},\"error_y\":{\"color\":\"#2a3f5f\"},\"marker\":{\"line\":{\"color\":\"#E5ECF6\",\"width\":0.5},\"pattern\":{\"fillmode\":\"overlay\",\"size\":10,\"solidity\":0.2}},\"type\":\"bar\"}],\"barpolar\":[{\"marker\":{\"line\":{\"color\":\"#E5ECF6\",\"width\":0.5},\"pattern\":{\"fillmode\":\"overlay\",\"size\":10,\"solidity\":0.2}},\"type\":\"barpolar\"}],\"carpet\":[{\"aaxis\":{\"endlinecolor\":\"#2a3f5f\",\"gridcolor\":\"white\",\"linecolor\":\"white\",\"minorgridcolor\":\"white\",\"startlinecolor\":\"#2a3f5f\"},\"baxis\":{\"endlinecolor\":\"#2a3f5f\",\"gridcolor\":\"white\",\"linecolor\":\"white\",\"minorgridcolor\":\"white\",\"startlinecolor\":\"#2a3f5f\"},\"type\":\"carpet\"}],\"choropleth\":[{\"colorbar\":{\"outlinewidth\":0,\"ticks\":\"\"},\"type\":\"choropleth\"}],\"contour\":[{\"colorbar\":{\"outlinewidth\":0,\"ticks\":\"\"},\"colorscale\":[[0.0,\"#0d0887\"],[0.1111111111111111,\"#46039f\"],[0.2222222222222222,\"#7201a8\"],[0.3333333333333333,\"#9c179e\"],[0.4444444444444444,\"#bd3786\"],[0.5555555555555556,\"#d8576b\"],[0.6666666666666666,\"#ed7953\"],[0.7777777777777778,\"#fb9f3a\"],[0.8888888888888888,\"#fdca26\"],[1.0,\"#f0f921\"]],\"type\":\"contour\"}],\"contourcarpet\":[{\"colorbar\":{\"outlinewidth\":0,\"ticks\":\"\"},\"type\":\"contourcarpet\"}],\"heatmap\":[{\"colorbar\":{\"outlinewidth\":0,\"ticks\":\"\"},\"colorscale\":[[0.0,\"#0d0887\"],[0.1111111111111111,\"#46039f\"],[0.2222222222222222,\"#7201a8\"],[0.3333333333333333,\"#9c179e\"],[0.4444444444444444,\"#bd3786\"],[0.5555555555555556,\"#d8576b\"],[0.6666666666666666,\"#ed7953\"],[0.7777777777777778,\"#fb9f3a\"],[0.8888888888888888,\"#fdca26\"],[1.0,\"#f0f921\"]],\"type\":\"heatmap\"}],\"heatmapgl\":[{\"colorbar\":{\"outlinewidth\":0,\"ticks\":\"\"},\"colorscale\":[[0.0,\"#0d0887\"],[0.1111111111111111,\"#46039f\"],[0.2222222222222222,\"#7201a8\"],[0.3333333333333333,\"#9c179e\"],[0.4444444444444444,\"#bd3786\"],[0.5555555555555556,\"#d8576b\"],[0.6666666666666666,\"#ed7953\"],[0.7777777777777778,\"#fb9f3a\"],[0.8888888888888888,\"#fdca26\"],[1.0,\"#f0f921\"]],\"type\":\"heatmapgl\"}],\"histogram\":[{\"marker\":{\"pattern\":{\"fillmode\":\"overlay\",\"size\":10,\"solidity\":0.2}},\"type\":\"histogram\"}],\"histogram2d\":[{\"colorbar\":{\"outlinewidth\":0,\"ticks\":\"\"},\"colorscale\":[[0.0,\"#0d0887\"],[0.1111111111111111,\"#46039f\"],[0.2222222222222222,\"#7201a8\"],[0.3333333333333333,\"#9c179e\"],[0.4444444444444444,\"#bd3786\"],[0.5555555555555556,\"#d8576b\"],[0.6666666666666666,\"#ed7953\"],[0.7777777777777778,\"#fb9f3a\"],[0.8888888888888888,\"#fdca26\"],[1.0,\"#f0f921\"]],\"type\":\"histogram2d\"}],\"histogram2dcontour\":[{\"colorbar\":{\"outlinewidth\":0,\"ticks\":\"\"},\"colorscale\":[[0.0,\"#0d0887\"],[0.1111111111111111,\"#46039f\"],[0.2222222222222222,\"#7201a8\"],[0.3333333333333333,\"#9c179e\"],[0.4444444444444444,\"#bd3786\"],[0.5555555555555556,\"#d8576b\"],[0.6666666666666666,\"#ed7953\"],[0.7777777777777778,\"#fb9f3a\"],[0.8888888888888888,\"#fdca26\"],[1.0,\"#f0f921\"]],\"type\":\"histogram2dcontour\"}],\"mesh3d\":[{\"colorbar\":{\"outlinewidth\":0,\"ticks\":\"\"},\"type\":\"mesh3d\"}],\"parcoords\":[{\"line\":{\"colorbar\":{\"outlinewidth\":0,\"ticks\":\"\"}},\"type\":\"parcoords\"}],\"pie\":[{\"automargin\":true,\"type\":\"pie\"}],\"scatter\":[{\"marker\":{\"colorbar\":{\"outlinewidth\":0,\"ticks\":\"\"}},\"type\":\"scatter\"}],\"scatter3d\":[{\"line\":{\"colorbar\":{\"outlinewidth\":0,\"ticks\":\"\"}},\"marker\":{\"colorbar\":{\"outlinewidth\":0,\"ticks\":\"\"}},\"type\":\"scatter3d\"}],\"scattercarpet\":[{\"marker\":{\"colorbar\":{\"outlinewidth\":0,\"ticks\":\"\"}},\"type\":\"scattercarpet\"}],\"scattergeo\":[{\"marker\":{\"colorbar\":{\"outlinewidth\":0,\"ticks\":\"\"}},\"type\":\"scattergeo\"}],\"scattergl\":[{\"marker\":{\"colorbar\":{\"outlinewidth\":0,\"ticks\":\"\"}},\"type\":\"scattergl\"}],\"scattermapbox\":[{\"marker\":{\"colorbar\":{\"outlinewidth\":0,\"ticks\":\"\"}},\"type\":\"scattermapbox\"}],\"scatterpolar\":[{\"marker\":{\"colorbar\":{\"outlinewidth\":0,\"ticks\":\"\"}},\"type\":\"scatterpolar\"}],\"scatterpolargl\":[{\"marker\":{\"colorbar\":{\"outlinewidth\":0,\"ticks\":\"\"}},\"type\":\"scatterpolargl\"}],\"scatterternary\":[{\"marker\":{\"colorbar\":{\"outlinewidth\":0,\"ticks\":\"\"}},\"type\":\"scatterternary\"}],\"surface\":[{\"colorbar\":{\"outlinewidth\":0,\"ticks\":\"\"},\"colorscale\":[[0.0,\"#0d0887\"],[0.1111111111111111,\"#46039f\"],[0.2222222222222222,\"#7201a8\"],[0.3333333333333333,\"#9c179e\"],[0.4444444444444444,\"#bd3786\"],[0.5555555555555556,\"#d8576b\"],[0.6666666666666666,\"#ed7953\"],[0.7777777777777778,\"#fb9f3a\"],[0.8888888888888888,\"#fdca26\"],[1.0,\"#f0f921\"]],\"type\":\"surface\"}],\"table\":[{\"cells\":{\"fill\":{\"color\":\"#EBF0F8\"},\"line\":{\"color\":\"white\"}},\"header\":{\"fill\":{\"color\":\"#C8D4E3\"},\"line\":{\"color\":\"white\"}},\"type\":\"table\"}]},\"layout\":{\"annotationdefaults\":{\"arrowcolor\":\"#2a3f5f\",\"arrowhead\":0,\"arrowwidth\":1},\"autotypenumbers\":\"strict\",\"coloraxis\":{\"colorbar\":{\"outlinewidth\":0,\"ticks\":\"\"}},\"colorscale\":{\"diverging\":[[0,\"#8e0152\"],[0.1,\"#c51b7d\"],[0.2,\"#de77ae\"],[0.3,\"#f1b6da\"],[0.4,\"#fde0ef\"],[0.5,\"#f7f7f7\"],[0.6,\"#e6f5d0\"],[0.7,\"#b8e186\"],[0.8,\"#7fbc41\"],[0.9,\"#4d9221\"],[1,\"#276419\"]],\"sequential\":[[0.0,\"#0d0887\"],[0.1111111111111111,\"#46039f\"],[0.2222222222222222,\"#7201a8\"],[0.3333333333333333,\"#9c179e\"],[0.4444444444444444,\"#bd3786\"],[0.5555555555555556,\"#d8576b\"],[0.6666666666666666,\"#ed7953\"],[0.7777777777777778,\"#fb9f3a\"],[0.8888888888888888,\"#fdca26\"],[1.0,\"#f0f921\"]],\"sequentialminus\":[[0.0,\"#0d0887\"],[0.1111111111111111,\"#46039f\"],[0.2222222222222222,\"#7201a8\"],[0.3333333333333333,\"#9c179e\"],[0.4444444444444444,\"#bd3786\"],[0.5555555555555556,\"#d8576b\"],[0.6666666666666666,\"#ed7953\"],[0.7777777777777778,\"#fb9f3a\"],[0.8888888888888888,\"#fdca26\"],[1.0,\"#f0f921\"]]},\"colorway\":[\"#636efa\",\"#EF553B\",\"#00cc96\",\"#ab63fa\",\"#FFA15A\",\"#19d3f3\",\"#FF6692\",\"#B6E880\",\"#FF97FF\",\"#FECB52\"],\"font\":{\"color\":\"#2a3f5f\"},\"geo\":{\"bgcolor\":\"white\",\"lakecolor\":\"white\",\"landcolor\":\"#E5ECF6\",\"showlakes\":true,\"showland\":true,\"subunitcolor\":\"white\"},\"hoverlabel\":{\"align\":\"left\"},\"hovermode\":\"closest\",\"mapbox\":{\"style\":\"light\"},\"paper_bgcolor\":\"white\",\"plot_bgcolor\":\"#E5ECF6\",\"polar\":{\"angularaxis\":{\"gridcolor\":\"white\",\"linecolor\":\"white\",\"ticks\":\"\"},\"bgcolor\":\"#E5ECF6\",\"radialaxis\":{\"gridcolor\":\"white\",\"linecolor\":\"white\",\"ticks\":\"\"}},\"scene\":{\"xaxis\":{\"backgroundcolor\":\"#E5ECF6\",\"gridcolor\":\"white\",\"gridwidth\":2,\"linecolor\":\"white\",\"showbackground\":true,\"ticks\":\"\",\"zerolinecolor\":\"white\"},\"yaxis\":{\"backgroundcolor\":\"#E5ECF6\",\"gridcolor\":\"white\",\"gridwidth\":2,\"linecolor\":\"white\",\"showbackground\":true,\"ticks\":\"\",\"zerolinecolor\":\"white\"},\"zaxis\":{\"backgroundcolor\":\"#E5ECF6\",\"gridcolor\":\"white\",\"gridwidth\":2,\"linecolor\":\"white\",\"showbackground\":true,\"ticks\":\"\",\"zerolinecolor\":\"white\"}},\"shapedefaults\":{\"line\":{\"color\":\"#2a3f5f\"}},\"ternary\":{\"aaxis\":{\"gridcolor\":\"white\",\"linecolor\":\"white\",\"ticks\":\"\"},\"baxis\":{\"gridcolor\":\"white\",\"linecolor\":\"white\",\"ticks\":\"\"},\"bgcolor\":\"#E5ECF6\",\"caxis\":{\"gridcolor\":\"white\",\"linecolor\":\"white\",\"ticks\":\"\"}},\"title\":{\"x\":0.05},\"xaxis\":{\"automargin\":true,\"gridcolor\":\"white\",\"linecolor\":\"white\",\"ticks\":\"\",\"title\":{\"standoff\":15},\"zerolinecolor\":\"white\",\"zerolinewidth\":2},\"yaxis\":{\"automargin\":true,\"gridcolor\":\"white\",\"linecolor\":\"white\",\"ticks\":\"\",\"title\":{\"standoff\":15},\"zerolinecolor\":\"white\",\"zerolinewidth\":2}}},\"title\":{\"text\":\"MAE vs Model experiment\"},\"xaxis\":{\"anchor\":\"y\",\"domain\":[0.0,1.0],\"title\":{\"text\":\"model_name\"}},\"yaxis\":{\"anchor\":\"x\",\"domain\":[0.0,1.0],\"title\":{\"text\":\"test_mae_mean\"}}},                        {\"responsive\": true}                    ).then(function(){\n",
       "                            \n",
       "var gd = document.getElementById('c36bf153-f377-496c-8894-b9117d44b3ea');\n",
       "var x = new MutationObserver(function (mutations, observer) {{\n",
       "        var display = window.getComputedStyle(gd).display;\n",
       "        if (!display || display === 'none') {{\n",
       "            console.log([gd, 'removed!']);\n",
       "            Plotly.purge(gd);\n",
       "            observer.disconnect();\n",
       "        }}\n",
       "}});\n",
       "\n",
       "// Listen for the removal of the full notebook cells\n",
       "var notebookContainer = gd.closest('#notebook-container');\n",
       "if (notebookContainer) {{\n",
       "    x.observe(notebookContainer, {childList: true});\n",
       "}}\n",
       "\n",
       "// Listen for the clearing of the current output cell\n",
       "var outputEl = gd.closest('.output');\n",
       "if (outputEl) {{\n",
       "    x.observe(outputEl, {childList: true});\n",
       "}}\n",
       "\n",
       "                        })                };                });            </script>        </div>"
      ]
     },
     "metadata": {},
     "output_type": "display_data"
    }
   ],
   "source": [
    "x = metrics_df[~(metrics_df['model_name']=='poly_linear_regression')]\n",
    "fig = px.line(x, x=\"model_name\", y=\"test_mae_mean\", title='MAE vs Model experiment', color = 'feature_set')\n",
    "fig.show()"
   ]
  },
  {
   "cell_type": "markdown",
   "id": "7eab0611",
   "metadata": {},
   "source": [
    "## Results --------\n",
    "\n",
    "     ------- We looked at three evaluation metrics - RMSE - Root Mean Squared Error, MAE - Mean Absolute Error & R^2\n",
    "             from 5-fold cross-validation. We intend to optimize for `MAE` & `R^2` as the metric considering the target\n",
    "             variable has outliers and MAE is not sensitive to outliers.\n",
    "     ------- The best model so far - `Gradient boosting regressor` with gridsearch parameters on all preprocessed \n",
    "             features leading to MAE on test set - 99872 & R^2 on test set - 79%."
   ]
  },
  {
   "cell_type": "code",
   "execution_count": null,
   "id": "cc5ab635",
   "metadata": {},
   "outputs": [],
   "source": []
  }
 ],
 "metadata": {
  "kernelspec": {
   "display_name": "Python 3 (ipykernel)",
   "language": "python",
   "name": "python3"
  },
  "language_info": {
   "codemirror_mode": {
    "name": "ipython",
    "version": 3
   },
   "file_extension": ".py",
   "mimetype": "text/x-python",
   "name": "python",
   "nbconvert_exporter": "python",
   "pygments_lexer": "ipython3",
   "version": "3.7.3"
  }
 },
 "nbformat": 4,
 "nbformat_minor": 5
}
